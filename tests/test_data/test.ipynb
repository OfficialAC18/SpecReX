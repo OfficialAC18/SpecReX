{
 "cells": [
  {
   "cell_type": "code",
   "execution_count": 10,
   "metadata": {},
   "outputs": [],
   "source": [
    "import numpy as np\n",
    "channel_first = np.random.randn(1,891)\n",
    "channel_last = np.random.randn(891,1)\n",
    "\n",
    "np.save('channel_first.npy', channel_first)\n",
    "np.save('channel_last.npy', channel_last)\n",
    "np.savetxt('channel_first.csv', channel_first, delimiter=',')\n",
    "np.savetxt('channel_last.csv', channel_first, delimiter=',')"
   ]
  },
  {
   "cell_type": "code",
   "execution_count": null,
   "metadata": {},
   "outputs": [],
   "source": []
  }
 ],
 "metadata": {
  "kernelspec": {
   "display_name": "SpecReX",
   "language": "python",
   "name": "python3"
  },
  "language_info": {
   "codemirror_mode": {
    "name": "ipython",
    "version": 3
   },
   "file_extension": ".py",
   "mimetype": "text/x-python",
   "name": "python",
   "nbconvert_exporter": "python",
   "pygments_lexer": "ipython3",
   "version": "3.12.0"
  }
 },
 "nbformat": 4,
 "nbformat_minor": 2
}
